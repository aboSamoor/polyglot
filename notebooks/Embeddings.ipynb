{
 "cells": [
  {
   "cell_type": "markdown",
   "metadata": {},
   "source": [
    "# Word Embeddings"
   ]
  },
  {
   "cell_type": "markdown",
   "metadata": {},
   "source": [
    "Word embedding is a mapping of a word to a d-dimensional vector space.\n",
    "This real valued vector representation captures semantic and syntactic features.\n",
    "Polyglot offers a simple interface to load several formats of word embeddings."
   ]
  },
  {
   "cell_type": "code",
   "execution_count": 1,
   "metadata": {
    "collapsed": false
   },
   "outputs": [],
   "source": [
    "from polyglot.mapping import Embedding"
   ]
  },
  {
   "cell_type": "markdown",
   "metadata": {},
   "source": [
    "## Formats\n",
    "\n",
    "The Embedding class can read word embeddings from different sources:\n",
    "\n",
    "- Gensim word2vec objects: (`from_gensim` method)\n",
    "- Word2vec binary/text models: (`from_word2vec` method)\n",
    "- GloVe models (``from_glove`` method)\n",
    "- polyglot pickle files: (`load` method)"
   ]
  },
  {
   "cell_type": "code",
   "execution_count": 2,
   "metadata": {
    "collapsed": false
   },
   "outputs": [],
   "source": [
    "embeddings = Embedding.load(\"/home/rmyeid/polyglot_data/embeddings2/en/embeddings_pkl.tar.bz2\")"
   ]
  },
  {
   "cell_type": "markdown",
   "metadata": {
    "collapsed": true
   },
   "source": [
    "##Nearest Neighbors"
   ]
  },
  {
   "cell_type": "markdown",
   "metadata": {},
   "source": [
    "A common way to investigate the space capture by the embeddings is to query for the nearest neighbors of any word."
   ]
  },
  {
   "cell_type": "code",
   "execution_count": 3,
   "metadata": {
    "collapsed": false
   },
   "outputs": [
    {
     "data": {
      "text/plain": [
       "[u'blue',\n",
       " u'white',\n",
       " u'red',\n",
       " u'yellow',\n",
       " u'black',\n",
       " u'grey',\n",
       " u'purple',\n",
       " u'pink',\n",
       " u'light',\n",
       " u'gray']"
      ]
     },
     "execution_count": 3,
     "metadata": {},
     "output_type": "execute_result"
    }
   ],
   "source": [
    "neighbors = embeddings.nearest_neighbors(\"green\")\n",
    "neighbors"
   ]
  },
  {
   "cell_type": "markdown",
   "metadata": {},
   "source": [
    "to calculate the distance between a word and the nieghbors, we can call the `distances` method"
   ]
  },
  {
   "cell_type": "code",
   "execution_count": 4,
   "metadata": {
    "collapsed": false
   },
   "outputs": [
    {
     "data": {
      "text/plain": [
       "array([ 1.34894466,  1.37864077,  1.39504588,  1.39524949,  1.43183875,\n",
       "        1.68007386,  1.75897062,  1.88401115,  1.89186132,  1.902614  ], dtype=float32)"
      ]
     },
     "execution_count": 4,
     "metadata": {},
     "output_type": "execute_result"
    }
   ],
   "source": [
    "embeddings.distances(\"green\", neighbors)"
   ]
  },
  {
   "cell_type": "markdown",
   "metadata": {},
   "source": [
    "The word embeddings are not unit vectors, actually the more frequent the word is the larger the norm of its own vector."
   ]
  },
  {
   "cell_type": "code",
   "execution_count": 5,
   "metadata": {
    "collapsed": false
   },
   "outputs": [],
   "source": [
    "%matplotlib inline\n",
    "import matplotlib.pyplot as plt\n",
    "import numpy as np"
   ]
  },
  {
   "cell_type": "code",
   "execution_count": 6,
   "metadata": {
    "collapsed": false
   },
   "outputs": [
    {
     "data": {
      "image/png": "[encoded data removed]",
      "text/plain": [
       "<matplotlib.figure.Figure at 0x7f301c9c9e90>"
      ]
     },
     "metadata": {},
     "output_type": "display_data"
    }
   ],
   "source": [
    "norms = np.linalg.norm(embeddings.vectors, axis=1)\n",
    "window = 300\n",
    "smooth_line = np.convolve(norms, np.ones(window)/float(window), mode='valid')\n",
    "plt.plot(smooth_line)\n",
    "plt.xlabel(\"Word Rank\"); _ = plt.ylabel(\"$L_2$ norm\")"
   ]
  },
  {
   "cell_type": "markdown",
   "metadata": {},
   "source": [
    "This could be problematic for some applications and training algorithms.\n",
    "We can normalize them by $L_2$ norms to get unit vectors to reduce effects of word frequency, as the following"
   ]
  },
  {
   "cell_type": "code",
   "execution_count": 7,
   "metadata": {
    "collapsed": false
   },
   "outputs": [],
   "source": [
    "embeddings = embeddings.normalize_words()"
   ]
  },
  {
   "cell_type": "code",
   "execution_count": 8,
   "metadata": {
    "collapsed": false
   },
   "outputs": [
    {
     "name": "stdout",
     "output_type": "stream",
     "text": [
      "white   0.4261\n",
      "blue    0.4451\n",
      "black   0.4591\n",
      "red     0.4786\n",
      "yellow  0.4947\n",
      "grey    0.6072\n",
      "purple  0.6392\n",
      "light   0.6483\n",
      "pink    0.6574\n",
      "colour  0.6824\n"
     ]
    }
   ],
   "source": [
    "neighbors = embeddings.nearest_neighbors(\"green\")\n",
    "for w,d in zip(neighbors, embeddings.distances(\"green\", neighbors)):\n",
    "  print(\"{:<8}{:.4f}\".format(w,d))"
   ]
  },
  {
   "cell_type": "markdown",
   "metadata": {},
   "source": [
    "## Vocabulary Expansion"
   ]
  },
  {
   "cell_type": "code",
   "execution_count": 16,
   "metadata": {
    "collapsed": false
   },
   "outputs": [],
   "source": [
    "from polyglot.mapping import CaseExpander, DigitExpander"
   ]
  },
  {
   "cell_type": "markdown",
   "metadata": {},
   "source": [
    "Not all the words are available in the dictionary defined by the word embeddings.\n",
    "Sometimes it would be useful to map new words to similar ones that we have embeddings for.\n",
    "\n",
    "### Case Expansion\n",
    "For example, the word `GREEN` is not available in the embeddings,"
   ]
  },
  {
   "cell_type": "code",
   "execution_count": 9,
   "metadata": {
    "collapsed": false
   },
   "outputs": [
    {
     "data": {
      "text/plain": [
       "False"
      ]
     },
     "execution_count": 9,
     "metadata": {},
     "output_type": "execute_result"
    }
   ],
   "source": [
    "\"GREEN\" in embeddings"
   ]
  },
  {
   "cell_type": "markdown",
   "metadata": {},
   "source": [
    "we would like to return the vector that represents the word `Green`, to do that we apply a case expansion:"
   ]
  },
  {
   "cell_type": "code",
   "execution_count": 12,
   "metadata": {
    "collapsed": true
   },
   "outputs": [],
   "source": [
    "embeddings.apply_expansion(CaseExpander)"
   ]
  },
  {
   "cell_type": "code",
   "execution_count": 13,
   "metadata": {
    "collapsed": false
   },
   "outputs": [
    {
     "data": {
      "text/plain": [
       "True"
      ]
     },
     "execution_count": 13,
     "metadata": {},
     "output_type": "execute_result"
    }
   ],
   "source": [
    "\"GREEN\" in embeddings"
   ]
  },
  {
   "cell_type": "code",
   "execution_count": 15,
   "metadata": {
    "collapsed": false
   },
   "outputs": [
    {
     "data": {
      "text/plain": [
       "[u'White',\n",
       " u'Black',\n",
       " u'Brown',\n",
       " u'Blue',\n",
       " u'Diamond',\n",
       " u'Wood',\n",
       " u'Young',\n",
       " u'Hudson',\n",
       " u'Cook',\n",
       " u'Gold']"
      ]
     },
     "execution_count": 15,
     "metadata": {},
     "output_type": "execute_result"
    }
   ],
   "source": [
    "embeddings.nearest_neighbors(\"GREEN\")"
   ]
  },
  {
   "cell_type": "markdown",
   "metadata": {},
   "source": [
    "### Digit Expansion"
   ]
  },
  {
   "cell_type": "markdown",
   "metadata": {},
   "source": [
    "We reduce the size of the vocabulary while training the embeddings by grouping special classes of words.\n",
    "Once common case of such grouping is digits.\n",
    "Every digit in the training corpus get replaced by the symbol `#`.\n",
    "For example, a number like `123.54` becomes `###.##`.\n",
    "Therefore, querying the embedding for a new number like `434` will result in a failure"
   ]
  },
  {
   "cell_type": "code",
   "execution_count": 19,
   "metadata": {
    "collapsed": false
   },
   "outputs": [
    {
     "data": {
      "text/plain": [
       "False"
      ]
     },
     "execution_count": 19,
     "metadata": {},
     "output_type": "execute_result"
    }
   ],
   "source": [
    "\"434\" in embeddings"
   ]
  },
  {
   "cell_type": "markdown",
   "metadata": {},
   "source": [
    "To fix that, we apply another type of vocabulary expansion `DigitExpander`.\n",
    "It will map any number to a sequence of `#`s."
   ]
  },
  {
   "cell_type": "code",
   "execution_count": 20,
   "metadata": {
    "collapsed": true
   },
   "outputs": [],
   "source": [
    "embeddings.apply_expansion(DigitExpander)"
   ]
  },
  {
   "cell_type": "code",
   "execution_count": 21,
   "metadata": {
    "collapsed": false
   },
   "outputs": [
    {
     "data": {
      "text/plain": [
       "True"
      ]
     },
     "execution_count": 21,
     "metadata": {},
     "output_type": "execute_result"
    }
   ],
   "source": [
    "\"434\" in embeddings"
   ]
  },
  {
   "cell_type": "markdown",
   "metadata": {},
   "source": [
    "As expected, the neighbors of the new number `434` will be other numbers:"
   ]
  },
  {
   "cell_type": "code",
   "execution_count": 28,
   "metadata": {
    "collapsed": false
   },
   "outputs": [
    {
     "data": {
      "text/plain": [
       "[u'##',\n",
       " u'#',\n",
       " u'3',\n",
       " u'#####',\n",
       " u'#,###',\n",
       " u'##,###',\n",
       " u'##EN##',\n",
       " u'####',\n",
       " u'###EN###',\n",
       " u'n']"
      ]
     },
     "execution_count": 28,
     "metadata": {},
     "output_type": "execute_result"
    }
   ],
   "source": [
    "embeddings.nearest_neighbors(\"434\")"
   ]
  },
  {
   "cell_type": "markdown",
   "metadata": {},
   "source": [
    "## Demo"
   ]
  },
  {
   "cell_type": "markdown",
   "metadata": {
    "collapsed": false
   },
   "source": [
    "Demo is available [here](https://bit.ly/embeddings)."
   ]
  },
  {
   "cell_type": "markdown",
   "metadata": {
    "collapsed": true
   },
   "source": [
    "### Citation"
   ]
  },
  {
   "cell_type": "markdown",
   "metadata": {},
   "source": [
    "This work is a direct implementation of the research being described in the [Polyglot: Distributed Word Representations for Multilingual NLP](http://www.aclweb.org/anthology/W13-3520) paper.\n",
    "The author of this library strongly encourage you to cite the following paper if you are using this software."
   ]
  },
  {
   "cell_type": "markdown",
   "metadata": {},
   "source": [
    "```\n",
    "@InProceedings{polyglot:2013:ACL-CoNLL,\n",
    " author    = {Al-Rfou, Rami  and  Perozzi, Bryan  and  Skiena, Steven},\n",
    " title     = {Polyglot: Distributed Word Representations for Multilingual NLP},\n",
    " booktitle = {Proceedings of the Seventeenth Conference on Computational Natural Language Learning},\n",
    " month     = {August},\n",
    " year      = {2013},\n",
    " address   = {Sofia, Bulgaria},\n",
    " publisher = {Association for Computational Linguistics},\n",
    " pages     = {183--192}, \n",
    " url       = {http://www.aclweb.org/anthology/W13-3520}\n",
    "}\n",
    "```"
   ]
  }
 ],
 "metadata": {
  "kernelspec": {
   "display_name": "Python 3",
   "language": "python",
   "name": "python3"
  },
  "language_info": {
   "codemirror_mode": {
    "name": "ipython",
    "version": 3
   },
   "file_extension": ".py",
   "mimetype": "text/x-python",
   "name": "python",
   "nbconvert_exporter": "python",
   "pygments_lexer": "ipython3",
   "version": "3.5.2"
  }
 },
 "nbformat": 4,
 "nbformat_minor": 0
}
